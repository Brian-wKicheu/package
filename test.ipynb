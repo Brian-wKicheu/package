{
 "cells": [
  {
   "cell_type": "code",
   "execution_count": 1,
   "metadata": {},
   "outputs": [
    {
     "name": "stdout",
     "output_type": "stream",
     "text": [
      "70\n",
      "55\n",
      "1500\n",
      "8.0\n"
     ]
    }
   ],
   "source": [
    "from mypackage import add, subtract, multiply, divide\n",
    "\n",
    "print(add(40, 30))\n",
    "print(subtract(75, 20))\n",
    "print(multiply(50, 30))\n",
    "print(divide(40, 5))"
   ]
  },
  {
   "cell_type": "code",
   "execution_count": 2,
   "metadata": {},
   "outputs": [
    {
     "name": "stdout",
     "output_type": "stream",
     "text": [
      "39.625\n"
     ]
    }
   ],
   "source": [
    "from mypackage.statistic import mean\n",
    "\n",
    "arr = [10, 34,65, 8, 54, 90, 22, 34]\n",
    "\n",
    "print(mean(arr))"
   ]
  }
 ],
 "metadata": {
  "kernelspec": {
   "display_name": "Python 3",
   "language": "python",
   "name": "python3"
  },
  "language_info": {
   "codemirror_mode": {
    "name": "ipython",
    "version": 3
   },
   "file_extension": ".py",
   "mimetype": "text/x-python",
   "name": "python",
   "nbconvert_exporter": "python",
   "pygments_lexer": "ipython3",
   "version": "3.13.1"
  }
 },
 "nbformat": 4,
 "nbformat_minor": 2
}
